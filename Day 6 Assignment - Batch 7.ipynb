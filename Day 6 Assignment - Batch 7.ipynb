{
 "cells": [
  {
   "cell_type": "markdown",
   "metadata": {},
   "source": [
    "# Python"
   ]
  },
  {
   "cell_type": "markdown",
   "metadata": {},
   "source": [
    "# Day 6 Assignment"
   ]
  },
  {
   "cell_type": "markdown",
   "metadata": {},
   "source": [
    "# Question 1\n"
   ]
  },
  {
   "cell_type": "code",
   "execution_count": 1,
   "metadata": {},
   "outputs": [],
   "source": [
    "#creating bank account using attributes and methods"
   ]
  },
  {
   "cell_type": "code",
   "execution_count": 2,
   "metadata": {},
   "outputs": [
    {
     "name": "stdout",
     "output_type": "stream",
     "text": [
      "Account owner: amar\n",
      "Account balance: $200\n",
      "deposite accepted, your balance is250\n",
      "withdrawal accepted, your balance is245\n"
     ]
    }
   ],
   "source": [
    "class BankAccount:\n",
    "    def __init__(self, owner, balance):\n",
    "        self.owner = owner\n",
    "        self.balance = balance\n",
    "    def __str__(self):\n",
    "        return 'Account owner: {owner}\\nAccount balance: ${balance}'.format(owner = self.owner, balance = self.balance)\n",
    "    def deposit(self, dp_money):\n",
    "        self.balance += dp_money\n",
    "        print('deposite accepted, your balance is{balance}'.format(balance=self.balance))\n",
    "    def withdraw(self, wd_money):\n",
    "        if wd_money>self.balance:\n",
    "            print('funds unavilable')\n",
    "        else:\n",
    "            self.balance -=wd_money\n",
    "            print('withdrawal accepted, your balance is{balance}'.format(balance=self.balance))\n",
    "acct1 =BankAccount('amar',200)\n",
    "print(acct1)\n",
    "acct1.deposit(50)\n",
    "acct1.withdraw(5)"
   ]
  },
  {
   "cell_type": "markdown",
   "metadata": {},
   "source": [
    "# Question 2"
   ]
  },
  {
   "cell_type": "code",
   "execution_count": 23,
   "metadata": {},
   "outputs": [
    {
     "name": "stdout",
     "output_type": "stream",
     "text": [
      "the surface area of the cone=94.25\n",
      "the volume of the cone=314.16\n"
     ]
    }
   ],
   "source": [
    "import math\n",
    "class Cone:\n",
    "    def cone(radius,height):\n",
    "        SA=math.pi*radius*(radius+1)\n",
    "        volume=(1.0/3*math.pi*radius*radius*height)\n",
    "        print(\"the surface area of the cone=%.2f\"%SA)\n",
    "        print(\"the volume of the cone=%.2f\"%volume)\n",
    "    cone(5,12)"
   ]
  },
  {
   "cell_type": "code",
   "execution_count": null,
   "metadata": {},
   "outputs": [],
   "source": [
    "#successfully finished the Day 6 assignment"
   ]
  }
 ],
 "metadata": {
  "kernelspec": {
   "display_name": "Python 3",
   "language": "python",
   "name": "python3"
  },
  "language_info": {
   "codemirror_mode": {
    "name": "ipython",
    "version": 3
   },
   "file_extension": ".py",
   "mimetype": "text/x-python",
   "name": "python",
   "nbconvert_exporter": "python",
   "pygments_lexer": "ipython3",
   "version": "3.8.3"
  }
 },
 "nbformat": 4,
 "nbformat_minor": 4
}
